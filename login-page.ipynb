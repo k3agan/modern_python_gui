{
 "cells": [
  {
   "cell_type": "code",
   "execution_count": 1,
   "metadata": {},
   "outputs": [
    {
     "name": "stdout",
     "output_type": "stream",
     "text": [
      "Requirement already satisfied: customtkinter in c:\\users\\kodonoghue\\anaconda3\\lib\\site-packages (4.6.3)"
     ]
    },
    {
     "name": "stderr",
     "output_type": "stream",
     "text": [
      "\n",
      "[notice] A new release of pip available: 22.2.2 -> 22.3.1\n",
      "[notice] To update, run: python.exe -m pip install --upgrade pip\n"
     ]
    },
    {
     "name": "stdout",
     "output_type": "stream",
     "text": [
      "\n",
      "Requirement already satisfied: darkdetect in c:\\users\\kodonoghue\\anaconda3\\lib\\site-packages (from customtkinter) (0.7.1)\n"
     ]
    }
   ],
   "source": [
    "!pip install customtkinter"
   ]
  },
  {
   "cell_type": "code",
   "execution_count": 3,
   "metadata": {},
   "outputs": [],
   "source": [
    "import customtkinter\n",
    "\n",
    "customtkinter.set_appearance_mode(\"dark\")\n",
    "customtkinter.set_default_color_theme(\"blue\")"
   ]
  },
  {
   "cell_type": "code",
   "execution_count": 4,
   "metadata": {},
   "outputs": [],
   "source": [
    "root = customtkinter.CTk()\n",
    "root.geometry('500x350')\n",
    "\n",
    "def login():\n",
    "    print('test')"
   ]
  },
  {
   "cell_type": "code",
   "execution_count": 5,
   "metadata": {},
   "outputs": [],
   "source": [
    "frame = customtkinter.CTkFrame(master = root)\n",
    "frame.pack(pady= 20, padx=60,fill='both',expand=True)\n",
    "\n",
    "label = customtkinter.CTkLabel(master = frame,text = 'login system', text_font='Verdana')"
   ]
  },
  {
   "cell_type": "code",
   "execution_count": 6,
   "metadata": {},
   "outputs": [],
   "source": [
    "label.pack(pady=12,padx=10)\n",
    "\n",
    "entry1 = customtkinter.CTkEntry(master = frame, placeholder_text = 'username')\n",
    "entry1.pack(pady=12,padx=10)\n",
    "entry2 = customtkinter.CTkEntry(master = frame, placeholder_text = 'password')\n",
    "entry2.pack(pady=12,padx=10)\n",
    "button = customtkinter.CTkButton(master = frame, text = 'Login', command=login)\n",
    "button.pack(pady=12,padx=10)\n",
    "checkbox = customtkinter.CTkCheckBox(master = frame,text = 'Remember me')\n",
    "checkbox.pack(pady = 12,padx=10)\n",
    "\n",
    "root.mainloop()"
   ]
  },
  {
   "cell_type": "code",
   "execution_count": null,
   "metadata": {},
   "outputs": [],
   "source": []
  }
 ],
 "metadata": {
  "kernelspec": {
   "display_name": "Python 3.9.12 ('base')",
   "language": "python",
   "name": "python3"
  },
  "language_info": {
   "codemirror_mode": {
    "name": "ipython",
    "version": 3
   },
   "file_extension": ".py",
   "mimetype": "text/x-python",
   "name": "python",
   "nbconvert_exporter": "python",
   "pygments_lexer": "ipython3",
   "version": "3.9.12"
  },
  "orig_nbformat": 4,
  "vscode": {
   "interpreter": {
    "hash": "c17c00414ce2bea59547f76802cfd8a491b82a7ed9a4aba9d98f8774c7c4fe68"
   }
  }
 },
 "nbformat": 4,
 "nbformat_minor": 2
}
